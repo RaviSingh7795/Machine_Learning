{
 "cells": [
  {
   "cell_type": "markdown",
   "id": "acac7072",
   "metadata": {},
   "source": [
    "# Numpy"
   ]
  },
  {
   "cell_type": "code",
   "execution_count": 13,
   "id": "d563c2f7-0c8b-4d22-8fa5-6670e2d3408e",
   "metadata": {},
   "outputs": [
    {
     "name": "stdout",
     "output_type": "stream",
     "text": [
      "<class 'numpy.ndarray'>\n"
     ]
    }
   ],
   "source": [
    "import numpy as np\n",
    "\n",
    "a1 = np.array([1,2,3,4])\n",
    "print(type(a1))"
   ]
  },
  {
   "cell_type": "code",
   "execution_count": 4,
   "id": "cce20469-0036-4dda-ab1f-c7afc737e0d0",
   "metadata": {},
   "outputs": [
    {
     "name": "stdout",
     "output_type": "stream",
     "text": [
      "[1. 2. 3. 4.]\n",
      "[ True  True  True  True]\n"
     ]
    }
   ],
   "source": [
    "# dtype\n",
    "print(np.array([1,2,3,4], dtype = float))\n",
    "print(np.array([1,2,3,4], dtype = bool))"
   ]
  },
  {
   "cell_type": "code",
   "execution_count": 10,
   "id": "6fb7baa7-181e-45d3-9d5b-3c2c52860dfe",
   "metadata": {},
   "outputs": [
    {
     "data": {
      "text/plain": [
       "array([[[ 0,  1],\n",
       "        [ 2,  3]],\n",
       "\n",
       "       [[ 4,  5],\n",
       "        [ 6,  7]],\n",
       "\n",
       "       [[ 8,  9],\n",
       "        [10, 11]]])"
      ]
     },
     "execution_count": 10,
     "metadata": {},
     "output_type": "execute_result"
    }
   ],
   "source": [
    "# np.arange\n",
    "np.arange(12,dtype=int).reshape(3,2,2)"
   ]
  },
  {
   "cell_type": "code",
   "execution_count": 25,
   "id": "91d91d6a-bf48-4309-8e0d-0e3c8c0a1b4c",
   "metadata": {
    "scrolled": true
   },
   "outputs": [
    {
     "data": {
      "text/plain": [
       "array([[0.3876307 , 0.72111445],\n",
       "       [0.33094859, 0.04556789],\n",
       "       [0.88238888, 0.46395375]])"
      ]
     },
     "execution_count": 25,
     "metadata": {},
     "output_type": "execute_result"
    }
   ],
   "source": [
    "# np.random.random\n",
    "np.random.random((3,2))"
   ]
  },
  {
   "cell_type": "code",
   "execution_count": 94,
   "id": "e6ae87d6",
   "metadata": {},
   "outputs": [
    {
     "data": {
      "text/plain": [
       "array([[ 1.   ,  3.111,  5.223,  7.332,  9.445],\n",
       "       [11.555, 13.664, 15.78 , 17.89 , 20.   ]], dtype=float16)"
      ]
     },
     "execution_count": 94,
     "metadata": {},
     "output_type": "execute_result"
    }
   ],
   "source": [
    "# np.linspace\n",
    "a2 = np.linspace(1,20,10,dtype=np.float16).reshape(2,5)\n",
    "a2"
   ]
  },
  {
   "cell_type": "code",
   "execution_count": 68,
   "id": "84f94186",
   "metadata": {},
   "outputs": [
    {
     "data": {
      "text/plain": [
       "2"
      ]
     },
     "execution_count": 68,
     "metadata": {},
     "output_type": "execute_result"
    }
   ],
   "source": [
    "a2.ndim"
   ]
  },
  {
   "cell_type": "code",
   "execution_count": 121,
   "id": "9ff2734b",
   "metadata": {},
   "outputs": [
    {
     "data": {
      "text/plain": [
       "array([[ 1,  3,  5,  7,  9],\n",
       "       [11, 13, 15, 17, 20]])"
      ]
     },
     "execution_count": 121,
     "metadata": {},
     "output_type": "execute_result"
    }
   ],
   "source": [
    "# astype\n",
    "a2.astype(np.int64)"
   ]
  },
  {
   "cell_type": "markdown",
   "id": "34507384",
   "metadata": {},
   "source": [
    "## Array Operations"
   ]
  },
  {
   "cell_type": "code",
   "execution_count": 119,
   "id": "c85f8941",
   "metadata": {
    "scrolled": true
   },
   "outputs": [
    {
     "data": {
      "text/plain": [
       "array([[ 1,  3,  5,  7,  9],\n",
       "       [11, 13, 15, 17, 20]])"
      ]
     },
     "execution_count": 119,
     "metadata": {},
     "output_type": "execute_result"
    }
   ],
   "source": [
    "# Scalar Operation ( Arithmetic Operations )\n",
    "np.array(a2 * 1, dtype=int)"
   ]
  },
  {
   "cell_type": "code",
   "execution_count": 120,
   "id": "c10e22bc",
   "metadata": {},
   "outputs": [
    {
     "data": {
      "text/plain": [
       "array([[False,  True,  True,  True,  True],\n",
       "       [ True,  True,  True,  True,  True]])"
      ]
     },
     "execution_count": 120,
     "metadata": {},
     "output_type": "execute_result"
    }
   ],
   "source": [
    "# Relational Operations\n",
    "a2 > 2"
   ]
  },
  {
   "cell_type": "markdown",
   "id": "5bcff285",
   "metadata": {},
   "source": [
    "## Vector Operations"
   ]
  },
  {
   "cell_type": "code",
   "execution_count": 150,
   "id": "ceb02eba",
   "metadata": {},
   "outputs": [
    {
     "data": {
      "text/plain": [
       "array([[12,  1,  1,  8,  2],\n",
       "       [ 4, 15,  5,  3,  9],\n",
       "       [ 3, 11,  2, 14, 13],\n",
       "       [ 7,  9, 12,  6, 10]])"
      ]
     },
     "execution_count": 150,
     "metadata": {},
     "output_type": "execute_result"
    }
   ],
   "source": [
    "# Arithmetic Operations\n",
    "a1 = np.random.randint(1,21,size=(4,5))\n",
    "a1"
   ]
  },
  {
   "cell_type": "code",
   "execution_count": 151,
   "id": "45d755bb",
   "metadata": {},
   "outputs": [
    {
     "data": {
      "text/plain": [
       "array([[35, 31, 20, 40, 36],\n",
       "       [28, 23, 40, 37, 38],\n",
       "       [32, 31, 29, 38, 31],\n",
       "       [38, 31, 38, 32, 36]])"
      ]
     },
     "execution_count": 151,
     "metadata": {},
     "output_type": "execute_result"
    }
   ],
   "source": [
    "# Arithmetic Operations\n",
    "a2 = np.random.randint(20,41,size=(4,5))\n",
    "a2"
   ]
  },
  {
   "cell_type": "code",
   "execution_count": 158,
   "id": "57975bd0",
   "metadata": {},
   "outputs": [
    {
     "data": {
      "text/plain": [
       "array([[120,  10,  10,  80,  20],\n",
       "       [ 40, 150,  50,  30,  90],\n",
       "       [ 30, 110,  20, 140, 130],\n",
       "       [ 70,  90, 120,  60, 100]])"
      ]
     },
     "execution_count": 158,
     "metadata": {},
     "output_type": "execute_result"
    }
   ],
   "source": [
    "np.round(a1*10)"
   ]
  },
  {
   "cell_type": "code",
   "execution_count": 21,
   "id": "b3021da9",
   "metadata": {},
   "outputs": [
    {
     "data": {
      "text/plain": [
       "array([[[ 0,  1],\n",
       "        [ 2,  3]],\n",
       "\n",
       "       [[ 4,  5],\n",
       "        [ 6,  7]],\n",
       "\n",
       "       [[ 8,  9],\n",
       "        [10, 11]]])"
      ]
     },
     "execution_count": 21,
     "metadata": {},
     "output_type": "execute_result"
    }
   ],
   "source": [
    "a1 = np.arange(12,dtype=int).reshape(3,2,2)\n",
    "a1.astype(np.int64)"
   ]
  },
  {
   "cell_type": "code",
   "execution_count": 182,
   "id": "15080ec8",
   "metadata": {},
   "outputs": [
    {
     "data": {
      "text/plain": [
       "array([[0, 1, 2, 3],\n",
       "       [4, 5, 6, 7]])"
      ]
     },
     "execution_count": 182,
     "metadata": {},
     "output_type": "execute_result"
    }
   ],
   "source": [
    "a1 = np.arange(8).reshape(2,4)\n",
    "a2 = np.arange(8,16).reshape(4,2)\n",
    "a1"
   ]
  },
  {
   "cell_type": "code",
   "execution_count": 183,
   "id": "b6a60822",
   "metadata": {},
   "outputs": [
    {
     "data": {
      "text/plain": [
       "array([[ 8,  9],\n",
       "       [10, 11],\n",
       "       [12, 13],\n",
       "       [14, 15]])"
      ]
     },
     "execution_count": 183,
     "metadata": {},
     "output_type": "execute_result"
    }
   ],
   "source": [
    "a2"
   ]
  },
  {
   "cell_type": "code",
   "execution_count": 184,
   "id": "16374bd5",
   "metadata": {},
   "outputs": [
    {
     "data": {
      "text/plain": [
       "array([[ 76,  82],\n",
       "       [252, 274]])"
      ]
     },
     "execution_count": 184,
     "metadata": {},
     "output_type": "execute_result"
    }
   ],
   "source": [
    "np.dot(a1,a2)"
   ]
  },
  {
   "cell_type": "code",
   "execution_count": 64,
   "id": "6016816e",
   "metadata": {},
   "outputs": [
    {
     "data": {
      "text/plain": [
       "array([0, 4, 8])"
      ]
     },
     "execution_count": 64,
     "metadata": {},
     "output_type": "execute_result"
    }
   ],
   "source": [
    "np.diag(a1)"
   ]
  },
  {
   "cell_type": "code",
   "execution_count": 72,
   "id": "62fdd1bf",
   "metadata": {},
   "outputs": [
    {
     "data": {
      "text/plain": [
       "array([[0, 2],\n",
       "       [6, 8]])"
      ]
     },
     "execution_count": 72,
     "metadata": {},
     "output_type": "execute_result"
    }
   ],
   "source": [
    "# Corner Elements\n",
    "\n",
    "a1[::2,::2]"
   ]
  },
  {
   "cell_type": "code",
   "execution_count": null,
   "id": "efb04d31",
   "metadata": {},
   "outputs": [],
   "source": []
  },
  {
   "cell_type": "markdown",
   "id": "8398d8a7",
   "metadata": {},
   "source": [
    "# Advance Numpy"
   ]
  },
  {
   "cell_type": "markdown",
   "id": "2afe6a39",
   "metadata": {},
   "source": [
    "### - Numpy Array Vs Python list"
   ]
  },
  {
   "cell_type": "code",
   "execution_count": 76,
   "id": "f16de52c",
   "metadata": {},
   "outputs": [
    {
     "name": "stdout",
     "output_type": "stream",
     "text": [
      "0.8338868618011475\n"
     ]
    }
   ],
   "source": [
    "# Speed of Python List\n",
    "\n",
    "a = [ i for i in range(10000000)]\n",
    "b = [ i for i in range(10000000,20000000)]\n",
    "\n",
    "c = []\n",
    "\n",
    "# import time lib\n",
    "import time as t\n",
    "\n",
    "start = t.time()\n",
    "for i in range(len(a)):\n",
    "    c.append(a[i]+b[i])\n",
    "print(t.time()-start)"
   ]
  },
  {
   "cell_type": "code",
   "execution_count": 79,
   "id": "d66da839",
   "metadata": {},
   "outputs": [
    {
     "name": "stdout",
     "output_type": "stream",
     "text": [
      "0.029526710510253906\n"
     ]
    }
   ],
   "source": [
    "# Speed of Numpy Array\n",
    "\n",
    "# import numpy and time lib\n",
    "import numpy as np\n",
    "import time as t\n",
    "\n",
    "a = np.arange(10000000)\n",
    "b = np.arange(10000000,20000000)\n",
    "start = t.time()\n",
    "c = a + b\n",
    "print(t.time()-start)"
   ]
  },
  {
   "cell_type": "code",
   "execution_count": 89,
   "id": "6e42f386",
   "metadata": {},
   "outputs": [
    {
     "data": {
      "text/plain": [
       "array([18, 10, 13, 12, 12,  1,  6,  2, 15,  9, 12, 16, 14, 12, 10,  6, 16,\n",
       "       11, 18, 19, 12, 19, 11,  5])"
      ]
     },
     "execution_count": 89,
     "metadata": {},
     "output_type": "execute_result"
    }
   ],
   "source": [
    "np.random.randint(1,20,24)"
   ]
  },
  {
   "cell_type": "code",
   "execution_count": 92,
   "id": "369b49bb",
   "metadata": {},
   "outputs": [
    {
     "data": {
      "text/plain": [
       "array([[ 0,  1,  2],\n",
       "       [ 3,  4,  5],\n",
       "       [ 6,  7,  8],\n",
       "       [ 9, 10, 11]])"
      ]
     },
     "execution_count": 92,
     "metadata": {},
     "output_type": "execute_result"
    }
   ],
   "source": [
    "a = np.arange(12).reshape(4,3)\n",
    "a"
   ]
  },
  {
   "cell_type": "code",
   "execution_count": 95,
   "id": "e9cd228a",
   "metadata": {},
   "outputs": [
    {
     "name": "stdout",
     "output_type": "stream",
     "text": [
      "[[4 5]\n",
      " [7 8]]\n"
     ]
    }
   ],
   "source": [
    "print(a[1:3,1:])"
   ]
  },
  {
   "cell_type": "markdown",
   "id": "2a06a617",
   "metadata": {},
   "source": [
    "## Fancy Indexing"
   ]
  },
  {
   "cell_type": "code",
   "execution_count": 124,
   "id": "77ea4851",
   "metadata": {},
   "outputs": [
    {
     "data": {
      "text/plain": [
       "array([[ 0,  1,  2,  3],\n",
       "       [ 4,  5,  6,  7],\n",
       "       [ 8,  9, 10, 11],\n",
       "       [12, 13, 14, 15],\n",
       "       [16, 17, 18, 19],\n",
       "       [20, 21, 22, 23]])"
      ]
     },
     "execution_count": 124,
     "metadata": {},
     "output_type": "execute_result"
    }
   ],
   "source": [
    "a = np.arange(24).reshape(6,4)\n",
    "a"
   ]
  },
  {
   "cell_type": "code",
   "execution_count": 127,
   "id": "8feda658",
   "metadata": {},
   "outputs": [
    {
     "name": "stdout",
     "output_type": "stream",
     "text": [
      "[ 5 10 12]\n"
     ]
    }
   ],
   "source": [
    "# Assigning random index and printing\n",
    "\n",
    "print(a[[1,2,3],[1,2,0]])"
   ]
  },
  {
   "cell_type": "markdown",
   "id": "be3bcb90",
   "metadata": {},
   "source": [
    "## Booleab Indexing"
   ]
  },
  {
   "cell_type": "code",
   "execution_count": 152,
   "id": "fa77fd90",
   "metadata": {},
   "outputs": [
    {
     "data": {
      "text/plain": [
       "array([[17, 31, 41,  1],\n",
       "       [57, 50, 80, 20],\n",
       "       [63, 33, 95, 25],\n",
       "       [68, 66, 66, 35],\n",
       "       [50, 35, 62, 23],\n",
       "       [41, 57, 57, 40]])"
      ]
     },
     "execution_count": 152,
     "metadata": {},
     "output_type": "execute_result"
    }
   ],
   "source": [
    "a = np.random.randint(1,100,24).reshape(6,4)\n",
    "a"
   ]
  },
  {
   "cell_type": "code",
   "execution_count": 168,
   "id": "de5d0e10",
   "metadata": {},
   "outputs": [
    {
     "data": {
      "text/plain": [
       "array([80, 68, 66, 66, 62])"
      ]
     },
     "execution_count": 168,
     "metadata": {},
     "output_type": "execute_result"
    }
   ],
   "source": [
    "# Printing no that are greater that 50\n",
    "a[(a > 50) & (a % 2 == 0)]"
   ]
  },
  {
   "cell_type": "markdown",
   "id": "37ab2f36",
   "metadata": {},
   "source": [
    "## Diff between \"&\" and \"and\"\n",
    "`\"&\"` - is a bit wise Operator  \n",
    "`\"and\"` - is a logical Operator"
   ]
  },
  {
   "cell_type": "code",
   "execution_count": null,
   "id": "cd9f038d",
   "metadata": {},
   "outputs": [],
   "source": []
  },
  {
   "cell_type": "markdown",
   "id": "cd514f58",
   "metadata": {},
   "source": [
    "# Broadcasting\n",
    "\n",
    "### **1. Make the two arrays have the same number of dimensions**\n",
    "- If the numbers of dimensions of the two arrays are different, add new dimensions with size 1 to the head of the array with the smaller dimension.<br>\n",
    "\n",
    "### **2. Make each dimension of the two arrays the same size.**\n",
    "- If the sizes of each dimension of the two arrays do not match, dimensions with size 1 are stretched to the size of the other array.\n",
    "- If there is a dimension whose size is not 1 in either of the two arrays, it cannot be broadcasted, and an error is raised.\n",
    "<img src = \"https://jakevdp.github.io/PythonDataScienceHandbook/figures/02.05-broadcasting.png\">"
   ]
  },
  {
   "cell_type": "code",
   "execution_count": 213,
   "id": "90501358",
   "metadata": {},
   "outputs": [
    {
     "data": {
      "text/plain": [
       "array([[ 0,  1,  2],\n",
       "       [ 3,  4,  5],\n",
       "       [ 6,  7,  8],\n",
       "       [ 9, 10, 11]])"
      ]
     },
     "execution_count": 213,
     "metadata": {},
     "output_type": "execute_result"
    }
   ],
   "source": [
    "a = np.arange(12).reshape(4,3)\n",
    "a"
   ]
  },
  {
   "cell_type": "code",
   "execution_count": 214,
   "id": "fedc07b7",
   "metadata": {},
   "outputs": [
    {
     "data": {
      "text/plain": [
       "array([0, 1, 2])"
      ]
     },
     "execution_count": 214,
     "metadata": {},
     "output_type": "execute_result"
    }
   ],
   "source": [
    "b = np.arange(3).reshape(3)\n",
    "b"
   ]
  },
  {
   "cell_type": "code",
   "execution_count": null,
   "id": "d760ec07",
   "metadata": {},
   "outputs": [],
   "source": []
  },
  {
   "cell_type": "markdown",
   "id": "0d7a2090",
   "metadata": {},
   "source": [
    "# Working with Mathematical Formulas by creating your own functions\n",
    "### 1. Sigmoid"
   ]
  },
  {
   "cell_type": "code",
   "execution_count": 2,
   "id": "b1319a2a",
   "metadata": {},
   "outputs": [],
   "source": [
    "# Sigmoid\n",
    "def sigmoid(array):\n",
    "    return 1/(1 + np.exp(array))"
   ]
  },
  {
   "cell_type": "code",
   "execution_count": 3,
   "id": "bb82ed81",
   "metadata": {},
   "outputs": [
    {
     "name": "stdout",
     "output_type": "stream",
     "text": [
      "[5.00000000e-01 2.68941421e-01 1.19202922e-01 4.74258732e-02\n",
      " 1.79862100e-02 6.69285092e-03 2.47262316e-03 9.11051194e-04\n",
      " 3.35350130e-04 1.23394576e-04]\n"
     ]
    }
   ],
   "source": [
    "a = np.arange(10)\n",
    "print(sigmoid(a))"
   ]
  },
  {
   "cell_type": "markdown",
   "id": "80454883-f0de-4a56-87dd-779c37fb2c78",
   "metadata": {},
   "source": [
    "### 2. Mean Square Error"
   ]
  },
  {
   "cell_type": "code",
   "execution_count": 14,
   "id": "6b5f657b-4259-4b1b-91ba-42ecb606429d",
   "metadata": {},
   "outputs": [],
   "source": [
    "# Mean Square Error Function\n",
    "def mse(actual, predicted):\n",
    "    return np.mean((actual - predicted)**2)"
   ]
  },
  {
   "cell_type": "code",
   "execution_count": 6,
   "id": "7c549bf9-6a12-437f-829d-90f4c1bf1ed9",
   "metadata": {},
   "outputs": [
    {
     "data": {
      "text/plain": [
       "array([12,  8,  6, 25, 16,  5, 18, 42,  3, 15, 18, 26, 25, 13,  5, 18, 39,\n",
       "        6, 17, 32, 35, 46, 41, 17, 42])"
      ]
     },
     "execution_count": 6,
     "metadata": {},
     "output_type": "execute_result"
    }
   ],
   "source": [
    "actual = np.random.randint(1,50,25)\n",
    "actual"
   ]
  },
  {
   "cell_type": "code",
   "execution_count": 7,
   "id": "2d75832f-180d-4cdb-8f47-a0da3a95b9fc",
   "metadata": {},
   "outputs": [
    {
     "data": {
      "text/plain": [
       "array([23,  1,  7, 12,  6, 15,  6, 15, 35, 30, 22, 20, 21, 22, 41, 22, 13,\n",
       "       49, 36, 21,  4, 36, 44, 19, 25])"
      ]
     },
     "execution_count": 7,
     "metadata": {},
     "output_type": "execute_result"
    }
   ],
   "source": [
    "predicted = np.random.randint(1,50,25)\n",
    "predicted"
   ]
  },
  {
   "cell_type": "code",
   "execution_count": 12,
   "id": "c813a1ae-9d5a-4ce6-829f-20814cb4eb0d",
   "metadata": {},
   "outputs": [
    {
     "name": "stdout",
     "output_type": "stream",
     "text": [
      "382.52\n"
     ]
    }
   ],
   "source": [
    "print(mse(actual,predicted))"
   ]
  },
  {
   "cell_type": "markdown",
   "id": "b4347965-ce4c-4486-b422-da3c7467043f",
   "metadata": {},
   "source": [
    "# Working with Missing Values"
   ]
  },
  {
   "cell_type": "code",
   "execution_count": 20,
   "id": "f33450cc-d578-4529-b0af-fc52e4ac9758",
   "metadata": {},
   "outputs": [
    {
     "data": {
      "text/plain": [
       "array([ 1.,  2.,  3.,  4., nan,  6.])"
      ]
     },
     "execution_count": 20,
     "metadata": {},
     "output_type": "execute_result"
    }
   ],
   "source": [
    "a = np.array([1,2,3,4,np.nan,6])\n",
    "a"
   ]
  },
  {
   "cell_type": "code",
   "execution_count": 23,
   "id": "d1c9a9ba-5c13-4d69-ae76-91bf0059f90e",
   "metadata": {},
   "outputs": [
    {
     "data": {
      "text/plain": [
       "array([1., 2., 3., 4., 6.])"
      ]
     },
     "execution_count": 23,
     "metadata": {},
     "output_type": "execute_result"
    }
   ],
   "source": [
    "# Some time we remove missing \n",
    "a[~np.isnan(a)]"
   ]
  },
  {
   "cell_type": "markdown",
   "id": "6131d02d-7f82-4765-a819-984ac92ff5ca",
   "metadata": {},
   "source": [
    "# Plotting Graphs"
   ]
  },
  {
   "cell_type": "code",
   "execution_count": 16,
   "id": "f194c3bb-4423-4d71-ad1e-07f79b2733c7",
   "metadata": {},
   "outputs": [
    {
     "data": {
      "text/plain": [
       "[<matplotlib.lines.Line2D at 0x132bbe150>]"
      ]
     },
     "execution_count": 16,
     "metadata": {},
     "output_type": "execute_result"
    },
    {
     "data": {
      "image/png": "[encoded data removed]",
      "text/plain": [
       "<Figure size 640x480 with 1 Axes>"
      ]
     },
     "metadata": {},
     "output_type": "display_data"
    }
   ],
   "source": [
    "# Plotting 2D Graphs\n",
    "# x = y\n",
    "\n",
    "import matplotlib.pyplot as plt\n",
    "\n",
    "x = np.linspace(-10,10,100)\n",
    "y = x\n",
    "\n",
    "plt.plot(x,y)"
   ]
  },
  {
   "cell_type": "code",
   "execution_count": 24,
   "id": "4fad271e-0310-4653-b7fb-99097e254938",
   "metadata": {},
   "outputs": [
    {
     "data": {
      "text/plain": [
       "[<matplotlib.lines.Line2D at 0x136e05340>]"
      ]
     },
     "execution_count": 24,
     "metadata": {},
     "output_type": "execute_result"
    },
    {
     "data": {
      "image/png": "[encoded data removed]",
      "text/plain": [
       "<Figure size 640x480 with 1 Axes>"
      ]
     },
     "metadata": {},
     "output_type": "display_data"
    }
   ],
   "source": [
    "# y = x**2\n",
    "\n",
    "x = np.linspace(-10,10,100)\n",
    "y = x**2\n",
    "plt.plot(x,y)"
   ]
  },
  {
   "cell_type": "code",
   "execution_count": 32,
   "id": "9e0bfe1f-22e8-4685-a1c5-1b7cdf5e0196",
   "metadata": {},
   "outputs": [
    {
     "data": {
      "text/plain": [
       "[<matplotlib.lines.Line2D at 0x137704890>]"
      ]
     },
     "execution_count": 32,
     "metadata": {},
     "output_type": "execute_result"
    },
    {
     "data": {
      "image/png": "[encoded data removed]",
      "text/plain": [
       "<Figure size 640x480 with 1 Axes>"
      ]
     },
     "metadata": {},
     "output_type": "display_data"
    }
   ],
   "source": [
    "# y = sin(x)\n",
    "\n",
    "x = np.linspace(-10,10,100)\n",
    "y = np.sin(x)\n",
    "\n",
    "plt.plot(x,y)"
   ]
  },
  {
   "cell_type": "code",
   "execution_count": 34,
   "id": "7983da2b-c8f3-4c76-80dc-69b1f25d0bfa",
   "metadata": {},
   "outputs": [
    {
     "name": "stderr",
     "output_type": "stream",
     "text": [
      "/var/folders/dc/6202nfnj7bsd3_q7nl662hrc0000gn/T/ipykernel_7070/1551346852.py:4: RuntimeWarning: invalid value encountered in log\n",
      "  y = x * np.log(x)\n"
     ]
    },
    {
     "data": {
      "text/plain": [
       "[<matplotlib.lines.Line2D at 0x1377c6c60>]"
      ]
     },
     "execution_count": 34,
     "metadata": {},
     "output_type": "execute_result"
    },
    {
     "data": {
      "image/png": "[encoded data removed]",
      "text/plain": [
       "<Figure size 640x480 with 1 Axes>"
      ]
     },
     "metadata": {},
     "output_type": "display_data"
    }
   ],
   "source": [
    "# y = xlog(x)\n",
    "\n",
    "x = np.linspace(-10,10,100)\n",
    "y = x * np.log(x)\n",
    "\n",
    "plt.plot(x,y)"
   ]
  },
  {
   "cell_type": "code",
   "execution_count": 35,
   "id": "ee0f47f5-91d6-42f9-95cb-c14fa66dbfb8",
   "metadata": {},
   "outputs": [
    {
     "data": {
      "text/plain": [
       "[<matplotlib.lines.Line2D at 0x132b6f770>]"
      ]
     },
     "execution_count": 35,
     "metadata": {},
     "output_type": "execute_result"
    },
    {
     "data": {
      "image/png": "[encoded data removed]",
      "text/plain": [
       "<Figure size 640x480 with 1 Axes>"
      ]
     },
     "metadata": {},
     "output_type": "display_data"
    }
   ],
   "source": [
    "# Sigmoid\n",
    "\n",
    "x = np.linspace(-10,10,100)\n",
    "y = 1/(1+np.exp(-x))\n",
    "\n",
    "plt.plot(x,y)"
   ]
  },
  {
   "cell_type": "code",
   "execution_count": null,
   "id": "5206d9ed-9cbf-41e6-b951-17c97fa73335",
   "metadata": {},
   "outputs": [],
   "source": []
  }
 ],
 "metadata": {
  "kernelspec": {
   "display_name": "Python 3 (ipykernel)",
   "language": "python",
   "name": "python3"
  },
  "language_info": {
   "codemirror_mode": {
    "name": "ipython",
    "version": 3
   },
   "file_extension": ".py",
   "mimetype": "text/x-python",
   "name": "python",
   "nbconvert_exporter": "python",
   "pygments_lexer": "ipython3",
   "version": "3.12.9"
  }
 },
 "nbformat": 4,
 "nbformat_minor": 5
}
